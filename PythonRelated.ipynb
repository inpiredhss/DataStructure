{
 "cells": [
  {
   "cell_type": "code",
   "execution_count": 5,
   "metadata": {},
   "outputs": [
    {
     "name": "stdout",
     "output_type": "stream",
     "text": [
      "A\n",
      "c\n",
      "Unknown grade 'c' being ignored\n",
      "C\n",
      "\n",
      "GPA 3.0\n"
     ]
    }
   ],
   "source": [
    "points={'A':4,'B':3,'C':2}\n",
    "courses=0\n",
    "scores=0\n",
    "done=False\n",
    "while not done:\n",
    "    grade=input()\n",
    "    if grade=='':\n",
    "        done=True\n",
    "    elif grade not in points:\n",
    "        print(\"Unknown grade '{0}' being ignored\".format(grade))\n",
    "    else:\n",
    "        courses+=1\n",
    "        scores+=points[grade]\n",
    "if courses>0:\n",
    "    print('GPA {0:.3}'.format(scores/courses))"
   ]
  },
  {
   "cell_type": "markdown",
   "metadata": {},
   "source": [
    "- 标识符：引用对象内存地址 隐式相关联\n",
    "- 动态类型：赋值 别名 指向同一底层对象；表达式 重新分配存储对象；\n",
    "- 实例化：类的新实例；类的构造函数；内置类；\n",
    "- 对象调用方法： data.sort(); response.lower().startswith('y')\n",
    "- 内置类-不可变：bool/int/float/str/frozenset/tuple; 可变：list/set/dict; \n",
    "- 序列：list tuple str; 集合：set frozenset 无序 传参不可变； dict:映射、键值对\n"
   ]
  },
  {
   "cell_type": "code",
   "execution_count": 10,
   "metadata": {},
   "outputs": [
    {
     "name": "stdout",
     "output_type": "stream",
     "text": [
      "{'o', 'l', 'h', 'e'} {'a': 'A', 'b': 'B'} {'c': 'C', 'd': 'D'}\n"
     ]
    }
   ],
   "source": [
    "a=set('hello') #可迭代对象--生成元素集合\n",
    "b=dict({'a':'A','b':'B'})\n",
    "pair=[('c','C'),('d','D')]\n",
    "c=dict(pair)\n",
    "print(a,b,c)"
   ]
  }
 ],
 "metadata": {
  "kernelspec": {
   "display_name": "Python 3",
   "language": "python",
   "name": "python3"
  },
  "language_info": {
   "codemirror_mode": {
    "name": "ipython",
    "version": 3
   },
   "file_extension": ".py",
   "mimetype": "text/x-python",
   "name": "python",
   "nbconvert_exporter": "python",
   "pygments_lexer": "ipython3",
   "version": "3.6.5"
  }
 },
 "nbformat": 4,
 "nbformat_minor": 2
}
